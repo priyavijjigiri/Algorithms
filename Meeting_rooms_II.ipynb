{
 "cells": [
  {
   "cell_type": "markdown",
   "metadata": {},
   "source": [
    "# Meeting rooms II:"
   ]
  },
  {
   "cell_type": "markdown",
   "metadata": {},
   "source": [
    "## Given an array of meeting time intervals consisting of start and end times [[s1,e1],[s2,e2],...] (si < ei), find the minimum number of conference rooms required.\n",
    "\n",
    "## For example,\n",
    "### Given [[0, 30],[5, 10],[15, 20]],\n",
    "### return 2."
   ]
  },
  {
   "cell_type": "code",
   "execution_count": 1,
   "metadata": {},
   "outputs": [],
   "source": [
    "class Interval:\n",
    "    def __init__(self, s=0, e=0):\n",
    "        self.start = s\n",
    "        self.end = e"
   ]
  },
  {
   "cell_type": "code",
   "execution_count": 2,
   "metadata": {},
   "outputs": [],
   "source": [
    "temp = Interval(s = 0, e = 30)\n",
    "ex1 = [temp]\n",
    "temp = Interval(s = 5, e = 10)\n",
    "ex1.append(temp)\n",
    "temp = Interval(s = 15, e = 20)\n",
    "ex1.append(temp)"
   ]
  },
  {
   "cell_type": "code",
   "execution_count": 3,
   "metadata": {},
   "outputs": [],
   "source": [
    "def MeetingRoomsII(self, intervals):\n",
    "    n = len(intervals)\n",
    "    if n == 0:\n",
    "        return 0\n",
    "    intervals.sort(key = lambda x:x.start)\n",
    "    last = [intervals[0].end]\n",
    "    for ind in range(1, n):\n",
    "        for i,element in enumerate(last):\n",
    "            if intervals[ind].start >= element:\n",
    "                last[i] = intervals[ind].end\n",
    "                break\n",
    "            if i == len(last)-1:\n",
    "                last.append(intervals[ind].end)\n",
    "                break\n",
    "    return len(last)"
   ]
  },
  {
   "cell_type": "code",
   "execution_count": 4,
   "metadata": {},
   "outputs": [
    {
     "ename": "NameError",
     "evalue": "name 'MeetingRoomsII' is not defined",
     "output_type": "error",
     "traceback": [
      "\u001b[0;31m---------------------------------------------------------------------------\u001b[0m",
      "\u001b[0;31mNameError\u001b[0m                                 Traceback (most recent call last)",
      "\u001b[0;32m<ipython-input-4-9fc4d4be1dfc>\u001b[0m in \u001b[0;36m<module>\u001b[0;34m\u001b[0m\n\u001b[0;32m----> 1\u001b[0;31m \u001b[0mMeetingRoomsII\u001b[0m\u001b[0;34m(\u001b[0m\u001b[0mex1\u001b[0m\u001b[0;34m)\u001b[0m\u001b[0;34m\u001b[0m\u001b[0m\n\u001b[0m",
      "\u001b[0;31mNameError\u001b[0m: name 'MeetingRoomsII' is not defined"
     ]
    }
   ],
   "source": [
    "MeetingRoomsII(ex1)"
   ]
  }
 ],
 "metadata": {
  "kernelspec": {
   "display_name": "Python 3",
   "language": "python",
   "name": "python3"
  },
  "language_info": {
   "codemirror_mode": {
    "name": "ipython",
    "version": 3
   },
   "file_extension": ".py",
   "mimetype": "text/x-python",
   "name": "python",
   "nbconvert_exporter": "python",
   "pygments_lexer": "ipython3",
   "version": "3.6.4"
  }
 },
 "nbformat": 4,
 "nbformat_minor": 2
}
