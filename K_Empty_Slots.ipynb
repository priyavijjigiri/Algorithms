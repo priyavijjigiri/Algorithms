{
 "cells": [
  {
   "cell_type": "markdown",
   "metadata": {},
   "source": [
    "# Problem: K Empty Slots"
   ]
  },
  {
   "cell_type": "markdown",
   "metadata": {},
   "source": [
    "There is a garden with N slots. In each slot, there is a flower. The N flowers will bloom one by one in N days. In each day, there will be exactly one flower blooming and it will be in the status of blooming since then.\n",
    "\n",
    "Given an array flowers consists of number from 1 to N. Each number in the array represents the place where the flower will open in that day.\n",
    "\n",
    "For example, flowers[i] = x means that the unique flower that blooms at day i will be at position x, where i and x will be in the range from 1 to N.\n",
    "\n",
    "Also given an integer k, you need to output in which day there exists two flowers in the status of blooming, and also the number of flowers between them is k and these flowers are not blooming.\n",
    "\n",
    "If there isn't such day, output -1."
   ]
  },
  {
   "cell_type": "markdown",
   "metadata": {},
   "source": [
    "## example: 1\n",
    "Input: \n",
    "flowers: [1,3,2]\n",
    "k: 1\n",
    "Output: 2\n",
    "Explanation: In the second day, the first and the third flower have become blooming."
   ]
  },
  {
   "cell_type": "markdown",
   "metadata": {},
   "source": [
    "## example: 2\n",
    "Input: \n",
    "flowers: [1,2,3]\n",
    "k: 1\n",
    "Output: -1"
   ]
  },
  {
   "cell_type": "code",
   "execution_count": 1,
   "metadata": {},
   "outputs": [],
   "source": [
    "import bisect\n",
    "def kemptyslots(flowers, k):\n",
    "    bloomed = []\n",
    "    for day,flower in enumerate(flowers,1):\n",
    "        i = bisect.bisect(bloomed,flower)\n",
    "        if i != 0 and abs(bloomed[i-1]-flower)-1 == k:\n",
    "            return day\n",
    "        if i != len(bloomed) and abs(bloomed[i]-flower)-1 == k:\n",
    "            return day\n",
    "        bloomed.insert(i, flower)\n",
    "    return -1\n"
   ]
  },
  {
   "cell_type": "code",
   "execution_count": 2,
   "metadata": {},
   "outputs": [
    {
     "data": {
      "text/plain": [
       "2"
      ]
     },
     "execution_count": 2,
     "metadata": {},
     "output_type": "execute_result"
    }
   ],
   "source": [
    "kemptyslots([1,3,2],1)"
   ]
  },
  {
   "cell_type": "markdown",
   "metadata": {},
   "source": [
    "### Time Complexity\n",
    "because we are running a loop over flowers it will be O(N) and every insertion is taking O(logN) because we are inserting in sorted array. also since inserting will take O(N) time.\n",
    "Total Time complexity will be O(N**2)"
   ]
  },
  {
   "cell_type": "markdown",
   "metadata": {},
   "source": [
    "### Space Complexity\n",
    "because we are saving bloomed positions in an array worst case space complexity is O(N)"
   ]
  },
  {
   "cell_type": "markdown",
   "metadata": {},
   "source": [
    "# Sliding window method"
   ]
  },
  {
   "cell_type": "markdown",
   "metadata": {},
   "source": [
    "first we create another array with positions of the flowers that gloom on each day"
   ]
  },
  {
   "cell_type": "code",
   "execution_count": 5,
   "metadata": {},
   "outputs": [],
   "source": [
    "def kemptyslots(flowers,k):\n",
    "    days = [0]*len(flowers)\n",
    "    for ind,each in enumerate(flowers,1):\n",
    "        days[each-1] = ind\n",
    "    left = 0\n",
    "    right = k+1\n",
    "    ans = float('inf')\n",
    "    while(right<len(flowers)):\n",
    "        for i in range(left+1,right):\n",
    "            if days[i] < days[left] or days[i] < days[right]:\n",
    "                left = i\n",
    "                right = i+k+1\n",
    "                break\n",
    "        else:\n",
    "            ans = min(ans, max(days[left],days[right]))\n",
    "            left = right\n",
    "            right = left+k+1\n",
    "    return ans if ans != float('inf') else -1"
   ]
  },
  {
   "cell_type": "code",
   "execution_count": 6,
   "metadata": {},
   "outputs": [
    {
     "data": {
      "text/plain": [
       "4"
      ]
     },
     "execution_count": 6,
     "metadata": {},
     "output_type": "execute_result"
    }
   ],
   "source": [
    "kemptyslots([1,4,7,2,3,6,5],0)"
   ]
  }
 ],
 "metadata": {
  "kernelspec": {
   "display_name": "Python 3",
   "language": "python",
   "name": "python3"
  },
  "language_info": {
   "codemirror_mode": {
    "name": "ipython",
    "version": 3
   },
   "file_extension": ".py",
   "mimetype": "text/x-python",
   "name": "python",
   "nbconvert_exporter": "python",
   "pygments_lexer": "ipython3",
   "version": "3.6.4"
  }
 },
 "nbformat": 4,
 "nbformat_minor": 2
}
