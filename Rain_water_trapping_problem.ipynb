{
 "cells": [
  {
   "cell_type": "markdown",
   "metadata": {},
   "source": [
    "# Trapping Rain Water"
   ]
  },
  {
   "cell_type": "markdown",
   "metadata": {},
   "source": [
    "Given n non-negative integers representing an elevation map where the width of each bar is 1, compute how much water it is able to trap after raining."
   ]
  },
  {
   "cell_type": "code",
   "execution_count": 1,
   "metadata": {},
   "outputs": [],
   "source": [
    "height = [0,1,0,2,1,0,1,3,2,1,2,1]"
   ]
  },
  {
   "cell_type": "markdown",
   "metadata": {},
   "source": [
    "Here I have created 2 arrays that hold maximum height left side of each index and maximum height right side of each index and used these two arrays to get the amount of water that is trapped at each index."
   ]
  },
  {
   "cell_type": "code",
   "execution_count": 2,
   "metadata": {},
   "outputs": [],
   "source": [
    "def trap(height):\n",
    "    result = 0\n",
    "    if len(height) > 2:\n",
    "        n = len(height)\n",
    "        left = [0]*n\n",
    "        right = [0]*n\n",
    "        left[1] = height[0]\n",
    "        right[n-2] = height[n-1]\n",
    "        for i in range(2,n):\n",
    "            left[i] = max(left[i-1], height[i-1])\n",
    "            right[n-1-i] = max(right[n-i], height[n-i])\n",
    "        for k in range(1,n-1):\n",
    "            if height[k] < min(left[k],right[k]):\n",
    "                result = result + min(left[k],right[k]) - height[k]\n",
    "    return result"
   ]
  },
  {
   "cell_type": "code",
   "execution_count": 3,
   "metadata": {},
   "outputs": [
    {
     "data": {
      "text/plain": [
       "6"
      ]
     },
     "execution_count": 3,
     "metadata": {},
     "output_type": "execute_result"
    }
   ],
   "source": [
    "trap(height)"
   ]
  },
  {
   "cell_type": "markdown",
   "metadata": {},
   "source": [
    "Its time complexity in O(n) because both the for loops run for n times and space complexity is also O(n) because we are maintaining 2 arrays of similar size."
   ]
  },
  {
   "cell_type": "code",
   "execution_count": 4,
   "metadata": {},
   "outputs": [],
   "source": [
    "def besttrap(height):\n",
    "    res = 0\n",
    "    n = len(height)\n",
    "    l = 0\n",
    "    r = n-1\n",
    "    leftmax = 0\n",
    "    rightmax = 0\n",
    "    while(l<r):\n",
    "        if height[l] < height[r]:\n",
    "            if leftmax > height[l]:\n",
    "                res = res + leftmax- height[l]\n",
    "            else:\n",
    "                leftmax = height[l]\n",
    "            l = l+1\n",
    "        else:\n",
    "            if rightmax > height[r]:\n",
    "                res = res + rightmax - height[r]\n",
    "            else:\n",
    "                rightmax = height[r]\n",
    "            r = r-1\n",
    "    return res"
   ]
  },
  {
   "cell_type": "code",
   "execution_count": 5,
   "metadata": {},
   "outputs": [
    {
     "data": {
      "text/plain": [
       "6"
      ]
     },
     "execution_count": 5,
     "metadata": {},
     "output_type": "execute_result"
    }
   ],
   "source": [
    "besttrap(height)"
   ]
  },
  {
   "cell_type": "markdown",
   "metadata": {},
   "source": [
    "here time complexity is O(n) and space complexity is O(1)"
   ]
  }
 ],
 "metadata": {
  "kernelspec": {
   "display_name": "Python 3",
   "language": "python",
   "name": "python3"
  },
  "language_info": {
   "codemirror_mode": {
    "name": "ipython",
    "version": 3
   },
   "file_extension": ".py",
   "mimetype": "text/x-python",
   "name": "python",
   "nbconvert_exporter": "python",
   "pygments_lexer": "ipython3",
   "version": "3.6.4"
  }
 },
 "nbformat": 4,
 "nbformat_minor": 2
}
